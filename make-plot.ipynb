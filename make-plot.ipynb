{
 "cells": [
  {
   "cell_type": "markdown",
   "id": "910570a2-13c2-4785-93c8-446513ee816b",
   "metadata": {},
   "source": [
    "# Make the WOD plot\n",
    "\n",
    "This notebook creates the classic world ocean database stacked histrogram. It uses parquet files of lon, lat and time downloaded with the `download_wod.py` script"
   ]
  },
  {
   "cell_type": "code",
   "execution_count": 1,
   "id": "5684f4fc-526c-4823-b159-ed17a558eee9",
   "metadata": {},
   "outputs": [],
   "source": [
    "import pandas as pd\n",
    "import requests\n",
    "from pathlib import Path\n",
    "import matplotlib.pyplot as plt\n",
    "import numpy as np\n",
    "from matplotlib.ticker import AutoMinorLocator, MultipleLocator"
   ]
  },
  {
   "cell_type": "markdown",
   "id": "97974c0d-ec21-408c-9eb8-309c3892d849",
   "metadata": {},
   "source": [
    "### fetch data\n",
    "\n",
    "Run the next cell if you want to download the processed dataset from my server"
   ]
  },
  {
   "cell_type": "code",
   "execution_count": 2,
   "id": "f33e86da-cc28-4c45-a9cd-0290a1ff5536",
   "metadata": {},
   "outputs": [],
   "source": [
    "if not Path('wod_by_year.pqt').exists():\n",
    "    df = pd.read_parquet(\"http://callumrollo.com/files/wod_by_year.pqt\")\n",
    "    df.to_parquet('wod_by_year.pqt', index=False)"
   ]
  },
  {
   "cell_type": "markdown",
   "id": "89705c26-aeba-42f0-b013-ae230d1cc84d",
   "metadata": {},
   "source": [
    "### Read downloaded data files"
   ]
  },
  {
   "cell_type": "code",
   "execution_count": 3,
   "id": "08e0ac61-36c6-4584-9a17-6541a63f6c7c",
   "metadata": {},
   "outputs": [],
   "source": [
    "combined_file = Path('wod_by_year.pqt')\n",
    "if combined_file.exists():\n",
    "    df = pd.read_parquet(combined_file)\n",
    "else:\n",
    "    inputs = Path(\"downloaded_files\").glob(\"*.pqt\")\n",
    "    df = pd.DataFrame()\n",
    "    for infile in inputs:\n",
    "        df_sub = pd.read_parquest(infile)\n",
    "        try:\n",
    "            df_sub[\"time\"] = pd.to_datetime(df_sub[\"time\"])\n",
    "        except ValueError:\n",
    "            print(f\"fail for {infile}\")\n",
    "            continue\n",
    "        df = pd.concat([df, df_sub])\n",
    "    parts = df.ds_name.str.split('_', expand=True)\n",
    "    df['file_year'] = parts[2]\n",
    "    df['source'] = parts[1]\n",
    "    df = df.sort_values('file_year')\n",
    "    df['year_from_datetime'] = df.time.dt.year\n",
    "    df = df.dropna(subset='year_from_datetime')\n",
    "    df['year_from_datetime'] = df['year_from_datetime'].astype(int)\n",
    "    df['country'] = df['country'].astype(str)\n",
    "    df.to_parquet(combined_file, index=False)"
   ]
  },
  {
   "cell_type": "markdown",
   "id": "7bd3c83b-0337-4259-9109-8d304dda54f7",
   "metadata": {},
   "source": [
    "Change the sources here if you want to switch up the order or exclude certain platforms"
   ]
  },
  {
   "cell_type": "code",
   "execution_count": 4,
   "id": "f6fdd93b-fbbc-4022-96f7-5f0302a13ac7",
   "metadata": {},
   "outputs": [],
   "source": [
    "source_colors = {}\n",
    "source_clean = {\"osd\": \"Bottle\",\n",
    "                \"mbt\": \"Mechanical BT\",\n",
    "                \"xbt\": \"Expendable BT\",\n",
    "                \"ctd\": \"CTD\",\n",
    "                \"pfl\": \"Argo float\",\n",
    "                \"drb\": \"Drifting buoy\",\n",
    "                \"uor\": \"Undulating CTD\",\n",
    "                \"gld\": \"Glider\",\n",
    "                \"mrb\": \"Moored buoy\",\n",
    "                \"apb\": \"Marine mammal\",\n",
    "}\n",
    "for i, source in enumerate(source_clean.keys()):\n",
    "    source_colors[f\"{source}: {source_clean[source]}\"] = f\"C{i}\"\n"
   ]
  },
  {
   "cell_type": "code",
   "execution_count": null,
   "id": "e8e1c8d8-0677-45ca-929a-a317f39eb565",
   "metadata": {},
   "outputs": [],
   "source": [
    "years_list = []\n",
    "for source in source_clean.keys():\n",
    "    df_sub = df[df.source==source]\n",
    "    years_list.append(df_sub.year_from_datetime.values)\n",
    "bins=np.arange(1900, 2025)"
   ]
  },
  {
   "cell_type": "markdown",
   "id": "4d921409-24da-4f8b-a667-9ca1f277a589",
   "metadata": {},
   "source": [
    "Use [matplotlib styles](https://matplotlib.org/stable/gallery/style_sheets/style_sheets_reference.html) to spice up the apperance "
   ]
  },
  {
   "cell_type": "code",
   "execution_count": null,
   "id": "5719ea68-2f99-4e92-851a-3d4093611c34",
   "metadata": {},
   "outputs": [],
   "source": [
    "with plt.style.context('default'):\n",
    "    fig, ax = plt.subplots(figsize=(10, 6))\n",
    "    plt.hist(years_list, bins, stacked=True, alpha=1, rwidth=0.8)\n",
    "    plt.setp(ax.get_xticklabels(), rotation=45, ha=\"center\");\n",
    "    ax.xaxis.set_major_locator(MultipleLocator(5))\n",
    "    ax.xaxis.set_minor_locator(MultipleLocator(1))\n",
    "    ax.set(xlim=(1900, 2025), ylim=(0, 800), ylabel=\"number of vertical profiles per year (hundreds of thousands)\")\n",
    "    plt.yticks(ticks=np.arange(0, 900000, 100000), labels=np.arange(0, 9))\n",
    "    plt.title(\"Changing methods of oceanographic data acquisition\")\n",
    "    ax.legend(source_colors)\n",
    "    plt.savefig(\"wod-profiles.png\", bbox_inches='tight')"
   ]
  },
  {
   "cell_type": "markdown",
   "id": "7ec7f2f1-b0e3-4d50-a643-5fd41840133e",
   "metadata": {},
   "source": [
    "### Additional filters\n",
    "\n",
    "We can filter the data before making the plot, e.g. just keeping data from a subset of countries"
   ]
  },
  {
   "cell_type": "code",
   "execution_count": null,
   "id": "631b40c2-fcad-45b2-8e1f-4c74559fa371",
   "metadata": {},
   "outputs": [],
   "source": [
    "countries = df.country.unique()"
   ]
  },
  {
   "cell_type": "code",
   "execution_count": null,
   "id": "35a074d6-523b-4cbd-838f-def3add1a2d0",
   "metadata": {},
   "outputs": [],
   "source": [
    "df_nations = df[df.country.isin(['SWEDEN',  'NORWAY','FINLAND',\n",
    "       'GREAT BRITAIN', 'DENMARK', 'MONACO', 'GERMANY',\n",
    "        'NETHERLANDS', 'BELGIUM', 'ITALY', 'AUSTRIA',\n",
    "       'IRELAND', 'FRANCE', 'YUGOSLAVIA',\n",
    "       'SPAIN',  'PORTUGAL', 'POLAND',\n",
    "       'LITHUANIA', 'TURKEY', 'ICELAND',\n",
    "        'GREECE',  'UKRAINE', \n",
    "       'EAST GERMANY',  'ROMANIA',\n",
    "   'MALTA', 'CYPRUS',  'LATVIA', 'BULGARIA',\n",
    "'ESTONIA',  'CROATIA', 'EUROPEAN UNION',])]"
   ]
  },
  {
   "cell_type": "code",
   "execution_count": null,
   "id": "93c946fe-023f-414e-afb3-e31798c7d973",
   "metadata": {},
   "outputs": [],
   "source": [
    "years_list = []\n",
    "for source in source_clean.keys():\n",
    "    df_sub = df_nations[df_nations.source==source]\n",
    "    years_list.append(df_sub.year_from_datetime.values)\n",
    "bins=np.arange(1900, 2025)\n",
    "fig, ax = plt.subplots(figsize=(10, 6))\n",
    "plt.hist(years_list, bins, stacked=True, alpha=1, rwidth=0.8)\n",
    "plt.setp(ax.get_xticklabels(), rotation=45, ha=\"center\");\n",
    "ax.xaxis.set_major_locator(MultipleLocator(5))\n",
    "ax.xaxis.set_minor_locator(MultipleLocator(1))\n",
    "ax.set(xlim=(1900, 2025), ylim=(0, 100), ylabel=\"number of vertical profiles per year (tens of thousands)\")\n",
    "plt.yticks(ticks=np.arange(0, 110000, 10000), labels=np.arange(0, 11))\n",
    "plt.title(\"Subset of oceanographic data from WOD\")\n",
    "ax.legend(source_colors)"
   ]
  }
 ],
 "metadata": {
  "kernelspec": {
   "display_name": "Python 3 (ipykernel)",
   "language": "python",
   "name": "python3"
  },
  "language_info": {
   "codemirror_mode": {
    "name": "ipython",
    "version": 3
   },
   "file_extension": ".py",
   "mimetype": "text/x-python",
   "name": "python",
   "nbconvert_exporter": "python",
   "pygments_lexer": "ipython3",
   "version": "3.11.5"
  }
 },
 "nbformat": 4,
 "nbformat_minor": 5
}
